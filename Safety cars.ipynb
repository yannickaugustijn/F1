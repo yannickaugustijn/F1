{
 "cells": [
  {
   "cell_type": "markdown",
   "metadata": {},
   "source": [
    "### Investigation into safety cars\n",
    "In this notebook I want to investigate safety cars. My main question is whether the amount of safety cars can be modelled by using a poisson distribution. In order to do this I need to do the following things\n",
    "\n",
    "1. Find safety cars in the data\\\n",
    "   Hypothesis: A safety car can be found by the following things\n",
    "        - Increasing laptimes\n",
    "        - No overtaking\n",
    "        - Smaller time-difference between first and last driver\n",
    "        - Smaller time-difference between all drivers\n",
    "2. Look at their distribution.\n",
    "    Find Lambda (expected per time interval)\n",
    "        Investigate lambda, are there differences per track? Or year?\n",
    "3. Comment on this, was Austria 2020 so strange?\n",
    "    \n"
   ]
  },
  {
   "cell_type": "code",
   "execution_count": null,
   "metadata": {},
   "outputs": [],
   "source": [
    "## Imports\n",
    "import pandas as pd\n",
    "import os\n",
    "import numpy as np\n",
    "import seaborn as sns\n",
    "import random\n",
    "from datetime import datetime\n",
    "from sklearn.linear_model import LinearRegression\n",
    "\n",
    "# To get full output\n",
    "from IPython.core.interactiveshell import InteractiveShell\n",
    "InteractiveShell.ast_node_interactivity = \"all\"\n",
    "\n",
    "pd.set_option('display.max_rows', None)\n",
    "pd.set_option('display.max_columns', None)\n",
    "pd.set_option('display.width', None)\n",
    "pd.set_option('display.max_colwidth', None)\n",
    "\n",
    "#set random seed\n",
    "random.seed(20)"
   ]
  },
  {
   "cell_type": "code",
   "execution_count": null,
   "metadata": {},
   "outputs": [],
   "source": [
    "# Change current working directory to where our F1 data is stored\n",
    "os.getcwd();\n",
    "os.chdir('C:\\\\Users\\\\yanni\\\\OneDrive\\\\Documents\\\\Data_Science\\\\F1_data')\n",
    "os.getcwd()  "
   ]
  },
  {
   "cell_type": "markdown",
   "metadata": {},
   "source": [
    "We want to have the laptimes per round, so we need the laptimes dataset. "
   ]
  },
  {
   "cell_type": "code",
   "execution_count": null,
   "metadata": {},
   "outputs": [],
   "source": [
    "laptimes_df = pd.read_csv('lap_times.csv')"
   ]
  },
  {
   "cell_type": "code",
   "execution_count": null,
   "metadata": {},
   "outputs": [],
   "source": [
    "laptimes_df.head()\n",
    "laptimes_df.shape\n",
    "laptimes_df.dtypes\n",
    "laptimes_df.describe(include = 'all')\n",
    "laptimes_df.head()"
   ]
  },
  {
   "cell_type": "markdown",
   "metadata": {},
   "source": [
    "#### Step 1. Find safetycars in the data\n",
    "In order to find these in the data we have the following hypotheses\n",
    "1. There are increasing laptimes\n",
    "2. There is no overtaking\n",
    "3. The time difference between the first and the last driver decreases"
   ]
  },
  {
   "cell_type": "code",
   "execution_count": null,
   "metadata": {},
   "outputs": [],
   "source": [
    "# Hypothesis 1. There are increasing laptimes\n",
    "# Here we check the distribution of laptimes in a \"normal\" race\n",
    "# I also want to know which race I'm looking at, so I'll add that info\n",
    "races_df = pd.read_csv('races.csv')\n",
    "races_df.head()\n",
    "races_df.dtypes\n",
    "races_df['race'] = races_df['name'] + ' ' + races_df['year'].astype(str)\n",
    "races_df.head()"
   ]
  },
  {
   "cell_type": "code",
   "execution_count": null,
   "metadata": {},
   "outputs": [],
   "source": [
    "# Here I'll get the mean time per lap\n",
    "laptime_race_df = laptimes_df.merge(races_df[['raceId', 'race']]\n",
    "                                    , how = 'left'\n",
    "                                    , on = 'raceId')\n",
    "laptime_race_df.head()\n",
    "avg_laptimes_race_df = laptime_race_df[['raceId', 'lap', 'race','milliseconds',]]\\\n",
    "                                     .groupby(['raceId', 'lap'])\\\n",
    "                                     .agg({'milliseconds' : 'mean',\n",
    "                                           'race'         : 'max'})\n",
    "avg_laptimes_race_df = avg_laptimes_race_df.reset_index()\n",
    "avg_laptimes_race_df.head()"
   ]
  },
  {
   "cell_type": "code",
   "execution_count": null,
   "metadata": {},
   "outputs": [],
   "source": []
  },
  {
   "cell_type": "code",
   "execution_count": null,
   "metadata": {
    "scrolled": true
   },
   "outputs": [],
   "source": [
    "# Visualize the laptimes of an individual race\n",
    "# Here we select a race to visualize\n",
    "plot_raceID = random.choice(np.unique(avg_laptimes_race_df['raceId']))\n",
    "\n",
    "sns.regplot(x = 'lap'\n",
    "            , y = 'milliseconds'\n",
    "            , data = avg_laptimes_race_df[avg_laptimes_race_df['raceId'] == plot_raceID]\n",
    "            , scatter = False\n",
    "            , line_kws={'color' : 'blue',\n",
    "                       'ls' : '--'}\n",
    "           )\n",
    "sns.lineplot(x = 'lap'\n",
    "            , y = 'milliseconds'\n",
    "            , data = avg_laptimes_race_df[avg_laptimes_race_df['raceId'] == plot_raceID]\n",
    "            , color = 'red')\\\n",
    ".set_title(\"average laptimes of {}\".format(avg_laptimes_race_df['race'][avg_laptimes_race_df['raceId'] == plot_raceID].iloc[0]))"
   ]
  },
  {
   "cell_type": "code",
   "execution_count": null,
   "metadata": {},
   "outputs": [],
   "source": [
    "sns.regplot(x = 'lap'\n",
    "            , y = 'milliseconds'\n",
    "            , data = avg_laptimes_race_df\n",
    "            , scatter = False\n",
    "            , line_kws={'color' : 'blue',\n",
    "                       'ls' : '--'}\n",
    "           )\n",
    "sns.lineplot(x = 'lap'\n",
    "            , y = 'milliseconds'\n",
    "            , data = avg_laptimes_race_df\n",
    "            , color = 'red')\\\n",
    ".set_title(\"average laptimes of all races\")"
   ]
  },
  {
   "cell_type": "code",
   "execution_count": null,
   "metadata": {},
   "outputs": [],
   "source": [
    "# From this plot we can see that most of the times the laptimes\n",
    "# should be going down\n",
    "# we will check with a regression whether that is indeed the case\n",
    "# Here X will be the lapnumber, and Y will be the laptime\n",
    "X = avg_laptimes_race_df[['lap']]\n",
    "y = avg_laptimes_race_df[['milliseconds']]\n",
    "reg = LinearRegression().fit(X, y)\n",
    "print('Every lap is on average {0:.2f}ms faster than the previous'.format(reg.coef_[0][0]))"
   ]
  },
  {
   "cell_type": "code",
   "execution_count": null,
   "metadata": {},
   "outputs": [],
   "source": [
    "# Thus, we can see that the laptime should be going down with each lap\n",
    "# Based on this info we can see that someting is going on if this is not the case\n",
    "# We will make an indicator for this, indicating whether the lap was faster than the previous\n",
    "avg_laptimes_race_df['previous_round'] = avg_laptimes_race_df.groupby('raceId')['milliseconds'].shift()\n",
    "\n",
    "avg_laptimes_race_df['faster_previous'] = np.where(avg_laptimes_race_df['milliseconds'] < avg_laptimes_race_df['previous_round']\n",
    "                                                   , True\n",
    "                                                   , False)\n",
    "avg_laptimes_race_df.head(100)"
   ]
  },
  {
   "cell_type": "markdown",
   "metadata": {},
   "source": [
    "We now have an indicator to show whether this lap was faster than the previous lap. However, there are multiple reasons why a lap can be slower. Such as: pit-stops, rain, traffic etc.\n",
    "Therefore we want to have more conditions, and we will continue with our next hypothesis:\n",
    "There will be no overtaking during a safety-car\n",
    "\n",
    "#### How to find this\n",
    "We can find this by taking a look at the position of a driver during the race, and comparing it to the round before. If it's the same then the driver was not overtaken or did not overtake."
   ]
  },
  {
   "cell_type": "code",
   "execution_count": null,
   "metadata": {},
   "outputs": [],
   "source": [
    "# First we will take a look at the position of drivers during a race\n",
    "ax = sns.lineplot(x = 'lap', y = 'position', hue = 'driverId', data = laptime_race_df[(laptime_race_df['raceId'] == 841)])\n",
    "ax.set_title(\"Changes in position during {}\".format(laptime_race_df['race'][laptime_race_df['raceId'] == 841].iloc[0]))\n",
    "ax.invert_yaxis()\n",
    "ax.legend_.remove()"
   ]
  },
  {
   "cell_type": "code",
   "execution_count": null,
   "metadata": {},
   "outputs": [],
   "source": [
    "# From here we can see that there are some times when there are many changes (pit-stops)\n",
    "# We will now make an indicator to see if someone was overtaken\n",
    "laptime_race_df.head()\n",
    "laptime_race_df['position_previous_round'] = laptime_race_df.groupby(['raceId', 'driverId'])['position'].shift()\n",
    "laptime_race_df['overtake'] = np.where(laptime_race_df['position'] < laptime_race_df['position_previous_round']\n",
    "                                       , True\n",
    "                                       , False)  \n",
    "laptime_race_df.head(100)\n"
   ]
  },
  {
   "cell_type": "code",
   "execution_count": null,
   "metadata": {},
   "outputs": [],
   "source": [
    "# We now have an indicator per driver if they did an overtake.\n",
    "# However, we want to know per lap of the race if there was an overtake\n",
    "overtake_df = laptime_race_df[['raceId', 'lap','overtake',]]\\\n",
    "                                     .groupby(['raceId', 'lap'])\\\n",
    "                                     .max()\\\n",
    "                                     .reset_index() \n",
    "\n",
    "overtake_df.head(100)"
   ]
  },
  {
   "cell_type": "code",
   "execution_count": null,
   "metadata": {},
   "outputs": [],
   "source": [
    "# To check if this works the way we want to we check the results with the graph\n",
    "overtake_df['lap'][(overtake_df['overtake'] == False) & (overtake_df['raceId'] == 841)]\n",
    "\n",
    "# It seems there were no overtakes in lap 43 to 47\n",
    "no_overtake_laps_df = laptime_race_df[(laptime_race_df['lap'] >= 43) \n",
    "                                   & (laptime_race_df['lap'] <= 47) \n",
    "                                   & (laptime_race_df['raceId'] == 841)]\n",
    "\n",
    "ax = sns.lineplot(x = 'lap', y = 'position', hue = 'driverId', data = no_overtake_laps_df)\n",
    "ax.set_title(\"Changes in position during {}\".format(laptime_race_df['race'][laptime_race_df['raceId'] == 841].iloc[0]))\n",
    "ax.invert_yaxis()\n",
    "ax.legend_.remove()\n",
    "\n",
    "# We only see straight lines so indeed no overtakes\n",
    "# I checked and there was no safety car during this period"
   ]
  },
  {
   "cell_type": "code",
   "execution_count": null,
   "metadata": {},
   "outputs": [],
   "source": [
    "# We join this to our initial df\n",
    "avg_laptimes_race_df = avg_laptimes_race_df.merge(overtake_df[['raceId'\n",
    "                                                               , 'lap'\n",
    "                                                               , 'overtake']]\n",
    "                                    , how = 'left'\n",
    "                                    , on = ['raceId', 'lap'])\n",
    "avg_laptimes_race_df.head()"
   ]
  },
  {
   "cell_type": "markdown",
   "metadata": {},
   "source": [
    "We now have our second indicator finished, whether there was overtaking. We will continue with working on our next indicator. There will be a decrease in time between the first and last driver."
   ]
  },
  {
   "cell_type": "code",
   "execution_count": null,
   "metadata": {},
   "outputs": [],
   "source": []
  },
  {
   "cell_type": "code",
   "execution_count": null,
   "metadata": {},
   "outputs": [],
   "source": []
  },
  {
   "cell_type": "code",
   "execution_count": null,
   "metadata": {},
   "outputs": [],
   "source": []
  },
  {
   "cell_type": "code",
   "execution_count": null,
   "metadata": {},
   "outputs": [],
   "source": []
  },
  {
   "cell_type": "code",
   "execution_count": null,
   "metadata": {},
   "outputs": [],
   "source": []
  }
 ],
 "metadata": {
  "kernelspec": {
   "display_name": "Python 3",
   "language": "python",
   "name": "python3"
  },
  "language_info": {
   "codemirror_mode": {
    "name": "ipython",
    "version": 3
   },
   "file_extension": ".py",
   "mimetype": "text/x-python",
   "name": "python",
   "nbconvert_exporter": "python",
   "pygments_lexer": "ipython3",
   "version": "3.7.6"
  }
 },
 "nbformat": 4,
 "nbformat_minor": 4
}
