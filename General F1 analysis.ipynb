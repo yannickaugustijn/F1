{
 "cells": [
  {
   "cell_type": "markdown",
   "metadata": {},
   "source": [
    "## General F1 Data analysis\n",
    "\n",
    "In this notebook I want to do some general analysis on F1 data. I will use this notebook to get back at using Python, and to try some interesting stuff with F1 data. My first step will be to import the data, and to just play around with it"
   ]
  },
  {
   "cell_type": "code",
   "execution_count": null,
   "metadata": {},
   "outputs": [],
   "source": [
    "## Imports\n",
    "import pandas as pd\n",
    "import os\n",
    "import numpy as np\n",
    "import seaborn as sns\n",
    "from datetime import datetime\n",
    "# To get full output\n",
    "from IPython.core.interactiveshell import InteractiveShell\n",
    "InteractiveShell.ast_node_interactivity = \"all\""
   ]
  },
  {
   "cell_type": "code",
   "execution_count": null,
   "metadata": {},
   "outputs": [],
   "source": [
    "# Change current working directory to where our F1 data is stored\n",
    "os.getcwd();\n",
    "os.chdir('C:\\\\Users\\\\yanni\\\\OneDrive\\\\Documents\\\\Data_Science\\\\F1_data')\n",
    "os.getcwd()     \n"
   ]
  },
  {
   "cell_type": "code",
   "execution_count": null,
   "metadata": {},
   "outputs": [],
   "source": [
    "circuits_df = pd.read_csv('circuits.csv')"
   ]
  },
  {
   "cell_type": "code",
   "execution_count": null,
   "metadata": {},
   "outputs": [],
   "source": [
    "circuits_df.shape\n",
    "circuits_df.dtypes\n",
    "circuits_df.describe(include = 'all')\n",
    "circuits_df.head()"
   ]
  },
  {
   "cell_type": "code",
   "execution_count": null,
   "metadata": {},
   "outputs": [],
   "source": [
    "# We saw that altitude only has 2 values\n",
    "circuits_df.groupby(by = 'alt').count()\n",
    "\n",
    "# This \\N value probably indicates a missing value so we set this at missing\n",
    "circuits_df = circuits_df.replace(r\"\\N\", np.NaN)\n",
    "\n",
    "#We've now changed it to null values\n",
    "circuits_df.head()"
   ]
  },
  {
   "cell_type": "markdown",
   "metadata": {},
   "source": [
    "#### general analysis circuits\n",
    "In this part I will investigate the different tracks. I want to find the answers to the following questions:\n",
    "\n",
    "- Which track is the most northern\n",
    "- Which track is the most southern\n",
    "- Which country has the most F1 tracks"
   ]
  },
  {
   "cell_type": "code",
   "execution_count": null,
   "metadata": {},
   "outputs": [],
   "source": [
    "# Which track is the most northern and southern\n",
    "\n",
    "# Most northern\n",
    "circuits_df.loc[circuits_df['lat'].idxmax()]\n",
    "# We see that the most northern track is a track in Sweden\n",
    "\n",
    "# Most southern\n",
    "circuits_df.loc[circuits_df['lat'].idxmin()]\n",
    "# The most southern is a Albert partk in Melbourne"
   ]
  },
  {
   "cell_type": "code",
   "execution_count": null,
   "metadata": {},
   "outputs": [],
   "source": [
    "# Which country has the most F1 tracks\n",
    "# We see that this is the USA, which has 11 F1 tracks\n",
    "circuits_df[['circuitId', 'country']] \\\n",
    ".groupby(by = 'country') \\\n",
    ".count()\\\n",
    ".sort_values(by = ['circuitId'], ascending = False) \\\n",
    ".head(5)"
   ]
  },
  {
   "cell_type": "markdown",
   "metadata": {},
   "source": [
    "#### What has changed over the years\n",
    "In this step we will see if things have changed over the years\n",
    "We want to see whether:\n",
    "- Cars have become faster\n",
    "- Pit stops have become faster\n",
    "- There are less safety cars\n",
    "- There are smaller gaps between the drivers\n"
   ]
  },
  {
   "cell_type": "code",
   "execution_count": null,
   "metadata": {},
   "outputs": [],
   "source": [
    "# Check whether cars have become faster\n",
    "# We will do this by comparing their time on different tracks and to see\n",
    "# how this has improved\n",
    "\n",
    "# To do this we need the laptimes data\n",
    "laptimes_df = pd.read_csv('lap_times.csv')"
   ]
  },
  {
   "cell_type": "code",
   "execution_count": null,
   "metadata": {},
   "outputs": [],
   "source": [
    "#some basic checks\n",
    "laptimes_df.shape\n",
    "laptimes_df.dtypes\n",
    "laptimes_df.describe(include = 'all')\n",
    "laptimes_df.head()"
   ]
  },
  {
   "cell_type": "code",
   "execution_count": null,
   "metadata": {},
   "outputs": [],
   "source": [
    "# We see from this that we also need to join the race data \n",
    "race_df = pd.read_csv('races.csv')"
   ]
  },
  {
   "cell_type": "code",
   "execution_count": null,
   "metadata": {},
   "outputs": [],
   "source": [
    "race_df.shape\n",
    "race_df.dtypes\n",
    "race_df.describe(include = 'all')\n",
    "race_df.head()"
   ]
  },
  {
   "cell_type": "code",
   "execution_count": null,
   "metadata": {},
   "outputs": [],
   "source": [
    "# Now we can find per lap where it was raced. We want to do this so that we\n",
    "# can group per circuit per year\n",
    "\n",
    "#First we merge with the race_df to get the circuitId and the year\n",
    "laptime_race_df = laptimes_df.merge(race_df[['raceId', 'year'\n",
    "                                             , 'circuitId', 'name']]\n",
    "                                    , how = 'left'\n",
    "                                    , on = 'raceId')\n",
    "laptime_race_df = laptime_race_df.rename(columns = {'name': 'name_race'})\n",
    "laptime_circuit_df = laptime_race_df.merge(circuits_df[['circuitId'\n",
    "                                                        , 'name']]\n",
    "                                           , how = 'left'\n",
    "                                           , on = 'circuitId')\n",
    "laptime_circuit_df = laptime_circuit_df.rename(columns = {'name': 'name_circuit'})"
   ]
  },
  {
   "cell_type": "code",
   "execution_count": null,
   "metadata": {},
   "outputs": [],
   "source": [
    "#We now have a df of all the laptimes per race per year\n",
    "laptime_circuit_df.head()\n"
   ]
  },
  {
   "cell_type": "code",
   "execution_count": null,
   "metadata": {},
   "outputs": [],
   "source": [
    "times_circuit_df = laptime_circuit_df[['year', 'name_circuit', 'milliseconds']] \\\n",
    "                    .groupby(['year', 'name_circuit']) \\\n",
    "                    .agg(['min', 'max', 'mean', 'median']) \n",
    "\n",
    "times_circuit_df.columns = times_circuit_df.columns.droplevel(0)\n",
    "times_circuit_df = times_circuit_df.reset_index()\n",
    "times_circuit_df = times_circuit_df.rename(columns = { 'name': 'name_circuit'\n",
    "                                                      , 'min': 'min_ms'\n",
    "                                                      , 'max': 'max_ms'\n",
    "                                                      , 'mean' : 'mean_ms'\n",
    "                                                      , 'median': 'median_ms'})\n",
    "times_circuit_df.head()"
   ]
  },
  {
   "cell_type": "code",
   "execution_count": null,
   "metadata": {},
   "outputs": [],
   "source": [
    "# We now have per year and circuit the info on the min, max, mean and median time\n",
    "# We can visualize this\n",
    "\n",
    "g = sns.barplot(x = 'year', y = 'min_ms', data = times_circuit_df, color = 'red')\n",
    "g.set_xticklabels(g.get_xticklabels(), rotation = 90, ha = 'center')"
   ]
  },
  {
   "cell_type": "code",
   "execution_count": null,
   "metadata": {},
   "outputs": [],
   "source": [
    "# We can see from here that there are certain times were the cars became\n",
    "# slower. This happened mostly in 2009\n"
   ]
  },
  {
   "cell_type": "code",
   "execution_count": null,
   "metadata": {},
   "outputs": [],
   "source": [
    "times_circuit_df.name_circuit.unique()"
   ]
  },
  {
   "cell_type": "code",
   "execution_count": null,
   "metadata": {},
   "outputs": [],
   "source": []
  }
 ],
 "metadata": {
  "kernelspec": {
   "display_name": "Python 3",
   "language": "python",
   "name": "python3"
  },
  "language_info": {
   "codemirror_mode": {
    "name": "ipython",
    "version": 3
   },
   "file_extension": ".py",
   "mimetype": "text/x-python",
   "name": "python",
   "nbconvert_exporter": "python",
   "pygments_lexer": "ipython3",
   "version": "3.7.6"
  }
 },
 "nbformat": 4,
 "nbformat_minor": 4
}
